{
 "cells": [
  {
   "cell_type": "markdown",
   "metadata": {},
   "source": [
    "# The following notebook merges PolyA and RiboD datasets\n",
    "* Datasets are unbalanced in terms of disease\n",
    "* PolyA datasets has many more samples compared to RiboD\n",
    "* Balacing of diseases is done based on the disease prevalence of RiboD\n"
   ]
  },
  {
   "cell_type": "code",
   "execution_count": 1,
   "metadata": {},
   "outputs": [],
   "source": [
    "import pandas as pd\n",
    "import numpy as np\n",
    "from sklearn.model_selection import train_test_split\n",
    "import matplotlib.pyplot as plt"
   ]
  },
  {
   "cell_type": "markdown",
   "metadata": {},
   "source": [
    "## Loading PolyA and RiboD gene expression data"
   ]
  },
  {
   "cell_type": "code",
   "execution_count": 3,
   "metadata": {},
   "outputs": [],
   "source": [
    "poly = pd.read_csv('./data/Poly.tsv', sep='\\t', index_col=0)\n",
    "ribo = pd.read_csv('./data/Ribo.tsv', sep='\\t', index_col=0)"
   ]
  },
  {
   "cell_type": "code",
   "execution_count": 5,
   "metadata": {},
   "outputs": [
    {
     "data": {
      "text/plain": [
       "(12236, 25924)"
      ]
     },
     "execution_count": 5,
     "metadata": {},
     "output_type": "execute_result"
    }
   ],
   "source": [
    "poly.shape"
   ]
  },
  {
   "cell_type": "code",
   "execution_count": 6,
   "metadata": {},
   "outputs": [
    {
     "data": {
      "text/plain": [
       "(296, 25924)"
      ]
     },
     "execution_count": 6,
     "metadata": {},
     "output_type": "execute_result"
    }
   ],
   "source": [
    "ribo.shape"
   ]
  },
  {
   "cell_type": "markdown",
   "metadata": {},
   "source": [
    "## Loading Clinical Metadata for both PolyA and RiboD data"
   ]
  },
  {
   "cell_type": "code",
   "execution_count": 8,
   "metadata": {},
   "outputs": [],
   "source": [
    "poly_clinical = pd.read_csv('./data/Poly_clinical.tsv', sep='\\t', index_col=0)\n",
    "ribo_clinical = pd.read_csv('./data/Ribo_clinical.tsv', sep='\\t', index_col=0)"
   ]
  },
  {
   "cell_type": "markdown",
   "metadata": {},
   "source": [
    "## Removing diseases that are represented by one sample"
   ]
  },
  {
   "cell_type": "code",
   "execution_count": 9,
   "metadata": {},
   "outputs": [],
   "source": [
    "poly_single_disease = poly_clinical.disease.value_counts().index.values[(poly_clinical.disease.value_counts()==1)]\n",
    "ribo_single_disease = ribo_clinical.disease.value_counts().index.values[(ribo_clinical.disease.value_counts()==1)]"
   ]
  },
  {
   "cell_type": "markdown",
   "metadata": {},
   "source": [
    "## Filling any NA values in the clinical files\n",
    "* one sample with NA values"
   ]
  },
  {
   "cell_type": "code",
   "execution_count": 10,
   "metadata": {},
   "outputs": [],
   "source": [
    "poly_clinical_dropped = poly_clinical.loc[~poly_clinical.disease.str.contains('|'.join(poly_single_disease)).fillna(True)] #one na sample\n",
    "ribo_clinical_dropped = ribo_clinical.loc[~ribo_clinical.disease.str.contains('|'.join(ribo_single_disease)).fillna(True)] #one na sample\n"
   ]
  },
  {
   "cell_type": "markdown",
   "metadata": {},
   "source": [
    "## Collecting common diseases from PolyA and RiboD"
   ]
  },
  {
   "cell_type": "code",
   "execution_count": 11,
   "metadata": {},
   "outputs": [],
   "source": [
    "common_diseases = set(ribo_clinical_dropped.disease.value_counts().index).intersection(poly_clinical_dropped.disease.value_counts().index)"
   ]
  },
  {
   "cell_type": "code",
   "execution_count": 12,
   "metadata": {},
   "outputs": [
    {
     "data": {
      "text/plain": [
       "{'Ewing sarcoma',\n",
       " 'acute lymphoblastic leukemia',\n",
       " 'acute myeloid leukemia',\n",
       " 'atypical teratoid/rhabdoid tumor',\n",
       " 'choroid plexus carcinoma',\n",
       " 'dysembryoplastic neuroepithelial tumor',\n",
       " 'ependymoma',\n",
       " 'fibrolamellar hepatocellular carcinoma',\n",
       " 'glioblastoma multiforme',\n",
       " 'glioma',\n",
       " 'lymphoma',\n",
       " 'medulloblastoma',\n",
       " 'neuroblastoma',\n",
       " 'sarcoma',\n",
       " 'wilms tumor'}"
      ]
     },
     "execution_count": 12,
     "metadata": {},
     "output_type": "execute_result"
    }
   ],
   "source": [
    "# Displaying common diseases\n",
    "(common_diseases)"
   ]
  },
  {
   "cell_type": "markdown",
   "metadata": {},
   "source": [
    "## Selecting samples from PolyA and RiboD that match common_diseases"
   ]
  },
  {
   "cell_type": "code",
   "execution_count": 13,
   "metadata": {},
   "outputs": [],
   "source": [
    "poly_masked = np.arange(poly_clinical_dropped.shape[0])\n",
    "ribo_masked = np.arange(ribo_clinical_dropped.shape[0])\n",
    "poly_clinical_disease_common_idx = []\n",
    "ribo_clinical_disease_common_idx = []\n",
    "\n",
    "for disease in common_diseases:\n",
    "    poly_disease_booleans = (poly_clinical_dropped.disease==disease).values\n",
    "    ribo_disease_booleans = (ribo_clinical_dropped.disease==disease).values\n",
    "    poly_disease_idx = poly_masked[poly_disease_booleans]\n",
    "    ribo_disease_idx = ribo_masked[ribo_disease_booleans]\n",
    "\n",
    "    poly_clinical_disease_common_idx += list(poly_disease_idx)\n",
    "    ribo_clinical_disease_common_idx += list(ribo_disease_idx)\n",
    "    \n",
    "poly_clinical_disease_common = poly_clinical_dropped.iloc[poly_clinical_disease_common_idx]\n",
    "ribo_clinical_disease_common = ribo_clinical_dropped.iloc[ribo_clinical_disease_common_idx]"
   ]
  },
  {
   "cell_type": "markdown",
   "metadata": {},
   "source": [
    "# Checking prevalence of diseases in both datasets..."
   ]
  },
  {
   "cell_type": "code",
   "execution_count": 14,
   "metadata": {},
   "outputs": [
    {
     "data": {
      "text/plain": [
       "glioma                                    0.276760\n",
       "acute lymphoblastic leukemia              0.201246\n",
       "acute myeloid leukemia                    0.169721\n",
       "glioblastoma multiforme                   0.065982\n",
       "neuroblastoma                             0.065982\n",
       "wilms tumor                               0.048754\n",
       "medulloblastoma                           0.046188\n",
       "ependymoma                                0.036290\n",
       "Ewing sarcoma                             0.030059\n",
       "sarcoma                                   0.021994\n",
       "lymphoma                                  0.018328\n",
       "choroid plexus carcinoma                  0.009531\n",
       "dysembryoplastic neuroepithelial tumor    0.005132\n",
       "fibrolamellar hepatocellular carcinoma    0.002933\n",
       "atypical teratoid/rhabdoid tumor          0.001100\n",
       "Name: disease, dtype: float64"
      ]
     },
     "execution_count": 14,
     "metadata": {},
     "output_type": "execute_result"
    }
   ],
   "source": [
    "poly_clinical_disease_common.disease.value_counts()/poly_clinical_disease_common.disease.value_counts().sum()"
   ]
  },
  {
   "cell_type": "code",
   "execution_count": 15,
   "metadata": {},
   "outputs": [
    {
     "data": {
      "text/plain": [
       "glioma                                    0.314655\n",
       "glioblastoma multiforme                   0.172414\n",
       "ependymoma                                0.103448\n",
       "fibrolamellar hepatocellular carcinoma    0.086207\n",
       "acute lymphoblastic leukemia              0.077586\n",
       "medulloblastoma                           0.068966\n",
       "neuroblastoma                             0.030172\n",
       "wilms tumor                               0.025862\n",
       "sarcoma                                   0.025862\n",
       "acute myeloid leukemia                    0.021552\n",
       "choroid plexus carcinoma                  0.021552\n",
       "lymphoma                                  0.017241\n",
       "dysembryoplastic neuroepithelial tumor    0.012931\n",
       "Ewing sarcoma                             0.012931\n",
       "atypical teratoid/rhabdoid tumor          0.008621\n",
       "Name: disease, dtype: float64"
      ]
     },
     "execution_count": 15,
     "metadata": {},
     "output_type": "execute_result"
    }
   ],
   "source": [
    "ribo_clinical_disease_common.disease.value_counts()/ribo_clinical_disease_common.disease.value_counts().sum()"
   ]
  },
  {
   "cell_type": "markdown",
   "metadata": {},
   "source": [
    "## Diseases are still not balanced"
   ]
  },
  {
   "cell_type": "code",
   "execution_count": 16,
   "metadata": {},
   "outputs": [],
   "source": [
    "desired_prevalence = ribo_clinical_disease_common.disease.value_counts()\n"
   ]
  },
  {
   "cell_type": "markdown",
   "metadata": {},
   "source": [
    "## Picking samples in expression files that are match common diseases"
   ]
  },
  {
   "cell_type": "code",
   "execution_count": 17,
   "metadata": {},
   "outputs": [],
   "source": [
    "# picking polyA samples belonging in common_diseases\n",
    "poly_disease_common = poly.loc[poly_clinical_disease_common.index]\n",
    "\n",
    "# picking riboD samples belonging in common_diseases\n",
    "ribo_disease_common = ribo.loc[ribo_clinical_disease_common.index]"
   ]
  },
  {
   "cell_type": "markdown",
   "metadata": {},
   "source": [
    "## Subsampling from PolyA based on RiboD prevalence"
   ]
  },
  {
   "cell_type": "code",
   "execution_count": 18,
   "metadata": {},
   "outputs": [],
   "source": [
    "poly_subsampled = []\n",
    "for disease in desired_prevalence.index:\n",
    "    sample = desired_prevalence.loc[disease] # disease prevalence in RiboD\n",
    "    n = poly_disease_common.loc[poly_clinical_disease_common.disease==disease].shape[0] # number of polyA samples beloging in common disease\n",
    "    \n",
    "    if sample <=n:\n",
    "        # if number of riboD samples belogning to disease is less than polyA samples belong to disease\n",
    "        # then sample from polyA samples as big as the number of samples in riboD \n",
    "        disease_subsample = poly_disease_common.loc[poly_clinical_disease_common.disease==disease].sample(n=sample)\n",
    "        \n",
    "    else:\n",
    "        disease_subsample = poly_disease_common.loc[poly_clinical_disease_common.disease==disease]\n",
    "    \n",
    "    poly_subsampled +=[disease_subsample]\n",
    "\n",
    "poly_subsampled_final = pd.concat(poly_subsampled, axis=0) # subsampled polyA dataframe based on riboD disease prevalence\n",
    "poly_clinical_disease_common_sumbsampled_final = poly_clinical_disease_common.loc[poly_subsampled_final.index] # modifying polyA clinical file to match the subsampled samples"
   ]
  },
  {
   "cell_type": "code",
   "execution_count": 19,
   "metadata": {},
   "outputs": [],
   "source": [
    "assert poly_subsampled_final.columns.values.tolist() == ribo_disease_common.columns.values.tolist()"
   ]
  },
  {
   "cell_type": "markdown",
   "metadata": {},
   "source": [
    "## Merging processed PolyA and RiboD samples into one file for downstream analysis\n",
    "#### Labelling:\n",
    "* Ribo samples = 1\n",
    "* Poly samples = 0"
   ]
  },
  {
   "cell_type": "code",
   "execution_count": 20,
   "metadata": {},
   "outputs": [],
   "source": [
    "ribo_labels = ribo_disease_common.shape[0]*[1]\n",
    "poly_labels = poly_subsampled_final.shape[0]*[0]\n",
    "all_labels = ribo_labels+poly_labels\n",
    "\n",
    "merged_disease_common = pd.concat([ribo_disease_common, poly_subsampled_final], axis=0)\n",
    "merged_labels = pd.DataFrame(all_labels, index = merged_disease_common.index, columns = ['Ribo'])\n"
   ]
  },
  {
   "cell_type": "code",
   "execution_count": 29,
   "metadata": {},
   "outputs": [],
   "source": [
    "# saving file to disk\n",
    "merged_disease_common.to_csv('MergedData_CommonDisease.tsv', sep='\\t')\n",
    "merged_labels.to_csv('MergedLabels_CommonDisease.tsv', sep='\\t')\n"
   ]
  },
  {
   "cell_type": "code",
   "execution_count": 30,
   "metadata": {},
   "outputs": [
    {
     "data": {
      "text/plain": [
       "(452, 25924)"
      ]
     },
     "execution_count": 30,
     "metadata": {},
     "output_type": "execute_result"
    }
   ],
   "source": [
    "merged_disease_common.shape"
   ]
  },
  {
   "cell_type": "markdown",
   "metadata": {},
   "source": [
    "## Now diseases are balanced in both datasets"
   ]
  },
  {
   "cell_type": "code",
   "execution_count": 21,
   "metadata": {},
   "outputs": [
    {
     "data": {
      "image/png": "[encoded data removed]",
      "text/plain": [
       "<Figure size 432x288 with 1 Axes>"
      ]
     },
     "metadata": {
      "needs_background": "light"
     },
     "output_type": "display_data"
    }
   ],
   "source": [
    "(poly_clinical_disease_common_sumbsampled_final.disease.value_counts()/poly_clinical_disease_common_sumbsampled_final.disease.value_counts().sum()).plot(kind='bar')\n",
    "plt.title('Final Poly Disease Prevalence', fontsize=15)\n",
    "plt.show()\n",
    "plt.close()"
   ]
  },
  {
   "cell_type": "code",
   "execution_count": 22,
   "metadata": {},
   "outputs": [
    {
     "data": {
      "image/png": "[encoded data removed]",
      "text/plain": [
       "<Figure size 432x288 with 1 Axes>"
      ]
     },
     "metadata": {
      "needs_background": "light"
     },
     "output_type": "display_data"
    }
   ],
   "source": [
    "(ribo_clinical_disease_common.disease.value_counts()/ribo_clinical_disease_common.disease.value_counts().sum()).plot(kind='bar')\n",
    "plt.title('Final Ribo Disease Prevalence', fontsize=15)\n",
    "plt.show()\n",
    "plt.close()"
   ]
  },
  {
   "cell_type": "markdown",
   "metadata": {},
   "source": [
    "## Saving genes used in classifier \n",
    "* This is static\n",
    "* New samples going into the classifier will be intersected with this list of genes"
   ]
  },
  {
   "cell_type": "code",
   "execution_count": 23,
   "metadata": {},
   "outputs": [],
   "source": [
    "with open('ClassifierGenes.txt', 'w') as f:\n",
    "    f.write('Gene\\n')\n",
    "    for gene in poly_subsampled_final.columns.values:\n",
    "        f.write(gene+'\\n')"
   ]
  }
 ],
 "metadata": {
  "kernelspec": {
   "display_name": "Python 3",
   "language": "python",
   "name": "python3"
  },
  "language_info": {
   "codemirror_mode": {
    "name": "ipython",
    "version": 3
   },
   "file_extension": ".py",
   "mimetype": "text/x-python",
   "name": "python",
   "nbconvert_exporter": "python",
   "pygments_lexer": "ipython3",
   "version": "3.7.3"
  }
 },
 "nbformat": 4,
 "nbformat_minor": 2
}
