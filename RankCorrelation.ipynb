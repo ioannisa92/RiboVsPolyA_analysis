{
 "cells": [
  {
   "cell_type": "markdown",
   "metadata": {},
   "source": [
    "### Spearman correlation between teh ranks obtained from:\n",
    "* RF classifier with disease unbalanced input data (run1)\n",
    "* RF classifier with disease balanced input data (run2)"
   ]
  },
  {
   "cell_type": "code",
   "execution_count": 1,
   "metadata": {},
   "outputs": [],
   "source": [
    "import numpy as np\n",
    "import pandas as pd\n"
   ]
  },
  {
   "cell_type": "code",
   "execution_count": 7,
   "metadata": {},
   "outputs": [],
   "source": [
    "run1 = pd.read_csv('./results/RF_gene_rank_run1.tsv', sep='\\t', index_col=0)\n",
    "run2 = pd.read_csv('./results/RF_gene_rank_run2.tsv', sep='\\t', index_col=0)"
   ]
  },
  {
   "cell_type": "code",
   "execution_count": 10,
   "metadata": {},
   "outputs": [],
   "source": [
    "from scipy.stats import spearmanr"
   ]
  },
  {
   "cell_type": "code",
   "execution_count": 12,
   "metadata": {},
   "outputs": [],
   "source": [
    "r,p = spearmanr(run1.index.values, run2.index.values)"
   ]
  },
  {
   "cell_type": "code",
   "execution_count": 14,
   "metadata": {},
   "outputs": [
    {
     "name": "stdout",
     "output_type": "stream",
     "text": [
      "Spearman r = -0.046\n",
      "Spearman p-value = 0.000\n"
     ]
    }
   ],
   "source": [
    "print('Spearman r = %.3f'%r)\n",
    "print('Spearman p-value = %.3f'%p)"
   ]
  },
  {
   "cell_type": "markdown",
   "metadata": {},
   "source": [
    "#### No correlation between the two ranks\n",
    "* Showing no correlation between what RF learns from disease balancing and disease unbalancing"
   ]
  },
  {
   "cell_type": "code",
   "execution_count": null,
   "metadata": {},
   "outputs": [],
   "source": []
  }
 ],
 "metadata": {
  "kernelspec": {
   "display_name": "Python 3",
   "language": "python",
   "name": "python3"
  },
  "language_info": {
   "name": ""
  }
 },
 "nbformat": 4,
 "nbformat_minor": 2
}
