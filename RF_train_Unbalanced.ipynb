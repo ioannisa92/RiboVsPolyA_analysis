{
 "cells": [
  {
   "cell_type": "markdown",
   "metadata": {},
   "source": [
    "### Disease unbalanced input data to RF (run1): analysis of classifier resutls"
   ]
  },
  {
   "cell_type": "code",
   "execution_count": 1,
   "metadata": {},
   "outputs": [],
   "source": [
    "import pandas as pd\n",
    "import numpy as np\n",
    "from sklearn.model_selection import train_test_split\n",
    "from sklearn.ensemble import RandomForestClassifier\n",
    "from sklearn.metrics import f1_score, precision_recall_curve,average_precision_score,confusion_matrix\n",
    "\n",
    "import seaborn as sns\n",
    "import matplotlib.pyplot as plt"
   ]
  },
  {
   "cell_type": "code",
   "execution_count": 2,
   "metadata": {},
   "outputs": [
    {
     "name": "stderr",
     "output_type": "stream",
     "text": [
      "[Parallel(n_jobs=-1)]: Using backend ThreadingBackend with 15 concurrent workers.\n",
      "[Parallel(n_jobs=-1)]: Done  20 tasks      | elapsed:    0.4s\n",
      "[Parallel(n_jobs=-1)]: Done 170 tasks      | elapsed:    1.4s\n",
      "[Parallel(n_jobs=-1)]: Done 420 tasks      | elapsed:    3.4s\n",
      "[Parallel(n_jobs=-1)]: Done 770 tasks      | elapsed:    5.7s\n",
      "[Parallel(n_jobs=-1)]: Done 1220 tasks      | elapsed:    8.5s\n",
      "[Parallel(n_jobs=-1)]: Done 1770 tasks      | elapsed:   12.3s\n",
      "[Parallel(n_jobs=-1)]: Done 2420 tasks      | elapsed:   16.5s\n",
      "[Parallel(n_jobs=-1)]: Done 3170 tasks      | elapsed:   22.5s\n",
      "[Parallel(n_jobs=-1)]: Done 4020 tasks      | elapsed:   29.9s\n",
      "[Parallel(n_jobs=-1)]: Done 4970 tasks      | elapsed:   38.3s\n",
      "[Parallel(n_jobs=-1)]: Done 5000 out of 5000 | elapsed:   38.5s finished\n",
      "[Parallel(n_jobs=15)]: Using backend ThreadingBackend with 15 concurrent workers.\n",
      "[Parallel(n_jobs=15)]: Done  20 tasks      | elapsed:    0.2s\n",
      "[Parallel(n_jobs=15)]: Done 170 tasks      | elapsed:    0.3s\n",
      "[Parallel(n_jobs=15)]: Done 420 tasks      | elapsed:    0.3s\n",
      "[Parallel(n_jobs=15)]: Done 770 tasks      | elapsed:    0.5s\n",
      "[Parallel(n_jobs=15)]: Done 1220 tasks      | elapsed:    0.6s\n",
      "[Parallel(n_jobs=15)]: Done 1770 tasks      | elapsed:    0.7s\n",
      "[Parallel(n_jobs=15)]: Done 2420 tasks      | elapsed:    0.9s\n",
      "[Parallel(n_jobs=15)]: Done 3170 tasks      | elapsed:    1.1s\n",
      "[Parallel(n_jobs=15)]: Done 4020 tasks      | elapsed:    1.4s\n",
      "[Parallel(n_jobs=15)]: Done 4970 tasks      | elapsed:    1.6s\n",
      "[Parallel(n_jobs=15)]: Done 5000 out of 5000 | elapsed:    1.6s finished\n",
      "[Parallel(n_jobs=15)]: Using backend ThreadingBackend with 15 concurrent workers.\n",
      "[Parallel(n_jobs=15)]: Done  20 tasks      | elapsed:    0.2s\n",
      "[Parallel(n_jobs=15)]: Done 170 tasks      | elapsed:    0.3s\n",
      "[Parallel(n_jobs=15)]: Done 420 tasks      | elapsed:    0.3s\n",
      "[Parallel(n_jobs=15)]: Done 770 tasks      | elapsed:    0.4s\n",
      "[Parallel(n_jobs=15)]: Done 1220 tasks      | elapsed:    0.6s\n",
      "[Parallel(n_jobs=15)]: Done 1770 tasks      | elapsed:    0.7s\n",
      "[Parallel(n_jobs=15)]: Done 2420 tasks      | elapsed:    0.9s\n",
      "[Parallel(n_jobs=15)]: Done 3170 tasks      | elapsed:    1.1s\n",
      "[Parallel(n_jobs=15)]: Done 4020 tasks      | elapsed:    1.4s\n",
      "[Parallel(n_jobs=15)]: Done 4970 tasks      | elapsed:    1.6s\n",
      "[Parallel(n_jobs=15)]: Done 5000 out of 5000 | elapsed:    1.6s finished\n",
      "[Parallel(n_jobs=15)]: Using backend ThreadingBackend with 15 concurrent workers.\n",
      "[Parallel(n_jobs=15)]: Done  20 tasks      | elapsed:    0.2s\n",
      "[Parallel(n_jobs=15)]: Done 170 tasks      | elapsed:    0.2s\n",
      "[Parallel(n_jobs=15)]: Done 420 tasks      | elapsed:    0.3s\n",
      "[Parallel(n_jobs=15)]: Done 770 tasks      | elapsed:    0.4s\n",
      "[Parallel(n_jobs=15)]: Done 1220 tasks      | elapsed:    0.5s\n",
      "[Parallel(n_jobs=15)]: Done 1770 tasks      | elapsed:    0.7s\n",
      "[Parallel(n_jobs=15)]: Done 2420 tasks      | elapsed:    0.9s\n",
      "[Parallel(n_jobs=15)]: Done 3170 tasks      | elapsed:    1.1s\n",
      "[Parallel(n_jobs=15)]: Done 4020 tasks      | elapsed:    1.3s\n",
      "[Parallel(n_jobs=15)]: Done 4970 tasks      | elapsed:    1.6s\n",
      "[Parallel(n_jobs=15)]: Done 5000 out of 5000 | elapsed:    1.6s finished\n",
      "[Parallel(n_jobs=15)]: Using backend ThreadingBackend with 15 concurrent workers.\n",
      "[Parallel(n_jobs=15)]: Done  20 tasks      | elapsed:    0.2s\n",
      "[Parallel(n_jobs=15)]: Done 170 tasks      | elapsed:    0.3s\n",
      "[Parallel(n_jobs=15)]: Done 420 tasks      | elapsed:    0.4s\n",
      "[Parallel(n_jobs=15)]: Done 770 tasks      | elapsed:    0.5s\n",
      "[Parallel(n_jobs=15)]: Done 1220 tasks      | elapsed:    0.6s\n",
      "[Parallel(n_jobs=15)]: Done 1770 tasks      | elapsed:    0.7s\n",
      "[Parallel(n_jobs=15)]: Done 2420 tasks      | elapsed:    0.9s\n",
      "[Parallel(n_jobs=15)]: Done 3170 tasks      | elapsed:    1.1s\n",
      "[Parallel(n_jobs=15)]: Done 4020 tasks      | elapsed:    1.4s\n",
      "[Parallel(n_jobs=15)]: Done 4970 tasks      | elapsed:    1.7s\n",
      "[Parallel(n_jobs=15)]: Done 5000 out of 5000 | elapsed:    1.7s finished\n"
     ]
    }
   ],
   "source": [
    "# loading data: unbalanced data\n",
    "X = pd.read_csv('./data/MergedData_reduced.tsv', sep='\\t', index_col=0)\n",
    "Y = pd.read_csv('./data/MergedLabels_reduced.tsv', sep='\\t', index_col=0)\n",
    "\n",
    "#splitting data into training and test\n",
    "# data are split randomly \n",
    "# Cannot balance based on disease because disease are not balanced\n",
    "X_train, X_test, Y_train, Y_test = train_test_split(X,Y, random_state=42, test_size=0.2)\n",
    "\n",
    "# loading model\n",
    "model = RandomForestClassifier(n_estimators=5000, max_depth=5,random_state=0, oob_score=True, n_jobs=-1, verbose=1)\n",
    "# fitting model to data\n",
    "model.fit(X_train, Y_train.values.ravel())\n",
    "# predicting on the held out (test) set\n",
    "pred = model.predict(X_test)\n",
    "#scorring accuracy of model\n",
    "score = (model.score(X_test, Y_test.values.ravel()))\n",
    "\n",
    "#getting probability scores for each sample\n",
    "# probability scores for both classes (RiboD, PolyA) will sum to 1\n",
    "y_proba = model.predict_proba(X_test)[:,1]\n",
    "\n",
    "# mean precision score\n",
    "precision, recall, _ = precision_recall_curve(Y_test, y_proba)\n",
    "mean_precision = average_precision_score(Y_test, y_proba)\n",
    "\n",
    "pred_proba = model.predict_proba(X_test)\n",
    "\n",
    "res = {} # results dictionary to be used later for downstream analysis\n",
    "\n",
    "res['test_labels'] = Y_test.values.ravel()\n",
    "res['pred_labels'] = pred\n",
    "res['pred_proba'] = pred_proba\n",
    "res['acc'] = score\n",
    "res['oob_score'] = model.oob_score_\n",
    "res['model'] = model\n",
    "res['average_precision'] = mean_precision\n",
    "res['precision'] = precision\n",
    "res['recall'] = recall\n",
    "res['genes'] = X.columns.tolist()\n",
    "res['importances'] = model.feature_importances_\n",
    "res['test_samples'] = X_test.index.values\n",
    "\n",
    "np.save('./results/RF_results_run1.npy', res)"
   ]
  },
  {
   "cell_type": "code",
   "execution_count": 4,
   "metadata": {},
   "outputs": [],
   "source": [
    "results = np.load('./results/RF_results_run2.npy').item()"
   ]
  },
  {
   "cell_type": "code",
   "execution_count": 5,
   "metadata": {},
   "outputs": [
    {
     "name": "stdout",
     "output_type": "stream",
     "text": [
      "Accuracy achieved: 0.978\n"
     ]
    }
   ],
   "source": [
    "print('Accuracy achieved: %.3f'%results['acc'])"
   ]
  },
  {
   "cell_type": "code",
   "execution_count": 6,
   "metadata": {},
   "outputs": [
    {
     "name": "stdout",
     "output_type": "stream",
     "text": [
      "Average precision achieved: 0.985\n"
     ]
    }
   ],
   "source": [
    "print('Average precision achieved: %.3f'%results['average_precision'])"
   ]
  },
  {
   "cell_type": "code",
   "execution_count": 7,
   "metadata": {},
   "outputs": [],
   "source": [
    "# Calculating Confusion Matrix\n",
    "mat = confusion_matrix(results['test_labels'], results['pred_labels'])"
   ]
  },
  {
   "cell_type": "markdown",
   "metadata": {},
   "source": [
    "### Confusion matrix shows perfect separation between the two calsses\n",
    "* Class 0: PolyA libraries\n",
    "* Class 1: Ribo-deplete libraries"
   ]
  },
  {
   "cell_type": "code",
   "execution_count": 8,
   "metadata": {},
   "outputs": [
    {
     "data": {
      "text/plain": [
       "<matplotlib.axes._subplots.AxesSubplot at 0x7fda5409bc18>"
      ]
     },
     "execution_count": 8,
     "metadata": {},
     "output_type": "execute_result"
    },
    {
     "data": {
      "image/png": "[encoded data removed]",
      "text/plain": [
       "<Figure size 432x288 with 2 Axes>"
      ]
     },
     "metadata": {
      "needs_background": "light"
     },
     "output_type": "display_data"
    }
   ],
   "source": [
    "sns.heatmap(mat, annot=True)"
   ]
  },
  {
   "cell_type": "code",
   "execution_count": 9,
   "metadata": {},
   "outputs": [],
   "source": [
    "importances = zip(results['importances'], results['genes'])"
   ]
  },
  {
   "cell_type": "code",
   "execution_count": 10,
   "metadata": {},
   "outputs": [],
   "source": [
    "importances = sorted(importances, key = lambda x:x[0], reverse=True)\n"
   ]
  },
  {
   "cell_type": "code",
   "execution_count": 11,
   "metadata": {},
   "outputs": [],
   "source": [
    "scores = list(map(lambda x:x[0], importances[:20]))\n",
    "genes = list(map(lambda x:x[1], importances[:20]))"
   ]
  },
  {
   "cell_type": "markdown",
   "metadata": {},
   "source": [
    "### Gene importance determined by RF classifier"
   ]
  },
  {
   "cell_type": "code",
   "execution_count": 12,
   "metadata": {},
   "outputs": [
    {
     "data": {
      "image/png": "[encoded data removed]",
      "text/plain": [
       "<Figure size 432x288 with 1 Axes>"
      ]
     },
     "metadata": {
      "needs_background": "light"
     },
     "output_type": "display_data"
    }
   ],
   "source": [
    "plt.bar(np.arange(len(scores)), scores, width=1)\n",
    "plt.xticks(labels=genes, ticks=np.arange(len(scores)), rotation=90)\n",
    "plt.show()\n",
    "plt.close()"
   ]
  },
  {
   "cell_type": "code",
   "execution_count": 13,
   "metadata": {},
   "outputs": [],
   "source": [
    "with open('/mnt/RiboVsPolyA/results/RF_gene_rank_run1.tsv', 'w') as f:\n",
    "    f.write('Gene\\tScore\\n')\n",
    "    for i in range(len(scores)):\n",
    "        score = scores[i]\n",
    "        gene = genes[i]\n",
    "        f.write(gene+'\\t'+str(score)+'\\n')\n",
    "        \n",
    "    "
   ]
  },
  {
   "cell_type": "markdown",
   "metadata": {},
   "source": [
    "#### Visualizing the effectiveness of the probability threshold\n",
    "* Threshold of 0.5 seems to separate the two classes perfectly"
   ]
  },
  {
   "cell_type": "code",
   "execution_count": 14,
   "metadata": {},
   "outputs": [
    {
     "data": {
      "text/plain": [
       "Text(0.5, 1.0, 'Probability of being Ribo')"
      ]
     },
     "execution_count": 14,
     "metadata": {},
     "output_type": "execute_result"
    },
    {
     "data": {
      "image/png": "[encoded data removed]",
      "text/plain": [
       "<Figure size 432x288 with 1 Axes>"
      ]
     },
     "metadata": {
      "needs_background": "light"
     },
     "output_type": "display_data"
    }
   ],
   "source": [
    "plt.hist(results['pred_proba'][:,1])\n",
    "plt.title('Probability of being Ribo')"
   ]
  },
  {
   "cell_type": "code",
   "execution_count": null,
   "metadata": {},
   "outputs": [],
   "source": []
  }
 ],
 "metadata": {
  "kernelspec": {
   "display_name": "Python 3",
   "language": "python",
   "name": "python3"
  },
  "language_info": {
   "codemirror_mode": {
    "name": "ipython",
    "version": 3
   },
   "file_extension": ".py",
   "mimetype": "text/x-python",
   "name": "python",
   "nbconvert_exporter": "python",
   "pygments_lexer": "ipython3",
   "version": "3.7.3"
  }
 },
 "nbformat": 4,
 "nbformat_minor": 2
}
