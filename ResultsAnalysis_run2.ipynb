{
 "cells": [
  {
   "cell_type": "markdown",
   "metadata": {},
   "source": [
    "### Disease balanced input data to RF (run2): analysis of classifier resutls"
   ]
  },
  {
   "cell_type": "code",
   "execution_count": 1,
   "metadata": {},
   "outputs": [],
   "source": [
    "import pandas as pd\n",
    "import numpy as np\n",
    "from sklearn.metrics import confusion_matrix, average_precision_score, accuracy_score, balanced_accuracy_score\n",
    "import seaborn as sns\n",
    "import matplotlib.pyplot as plt"
   ]
  },
  {
   "cell_type": "code",
   "execution_count": 52,
   "metadata": {},
   "outputs": [],
   "source": [
    "def fpr_tpr(mat):\n",
    "    '''\n",
    "    Function takes in a confusion matrix\n",
    "    Retunr false positive rate (FPR) and true positive (TPR)\n",
    "    \n",
    "    Only works for binary cases\n",
    "    '''\n",
    "    tn, fp, fn, tp = mat.ravel()\n",
    "    if len(mat.shape) !=2:\n",
    "        raise ValueError('Function can only handle binary classification cases')\n",
    "    tot = mat.sum(axis=1) # total negative(0) and positive(1) labels\n",
    "    FPR = fp/tot[0]\n",
    "    TPR = tp/tot[1]\n",
    "        \n",
    "    return FPR,TPR"
   ]
  },
  {
   "cell_type": "code",
   "execution_count": 2,
   "metadata": {},
   "outputs": [],
   "source": [
    "results = np.load('./results/RF_results_run2.npy').item()"
   ]
  },
  {
   "cell_type": "code",
   "execution_count": 3,
   "metadata": {},
   "outputs": [
    {
     "data": {
      "text/plain": [
       "dict_keys(['test_labels', 'pred_labels', 'pred_proba', 'acc', 'oob_score', 'model', 'average_precision', 'precision', 'recall', 'genes', 'importances', 'test_samples'])"
      ]
     },
     "execution_count": 3,
     "metadata": {},
     "output_type": "execute_result"
    }
   ],
   "source": [
    "results.keys()"
   ]
  },
  {
   "cell_type": "code",
   "execution_count": 4,
   "metadata": {},
   "outputs": [
    {
     "name": "stdout",
     "output_type": "stream",
     "text": [
      "Accuracy achieved: 0.971\n"
     ]
    }
   ],
   "source": [
    "print('Accuracy achieved: %.3f'%results['acc'])"
   ]
  },
  {
   "cell_type": "code",
   "execution_count": 5,
   "metadata": {},
   "outputs": [
    {
     "name": "stdout",
     "output_type": "stream",
     "text": [
      "Average precision achieved: 0.997\n"
     ]
    }
   ],
   "source": [
    "print('Average precision achieved: %.3f'%results['average_precision'])"
   ]
  },
  {
   "cell_type": "code",
   "execution_count": 6,
   "metadata": {},
   "outputs": [],
   "source": [
    "mismatch = results['test_labels'] != results['pred_labels']\n",
    "mismatch_idx = [i for i,e in enumerate(mismatch) if e ]"
   ]
  },
  {
   "cell_type": "code",
   "execution_count": 7,
   "metadata": {},
   "outputs": [],
   "source": [
    "misclassified_df = pd.DataFrame(results['pred_proba'][mismatch_idx], index=results['test_samples'][mismatch_idx], columns=['PolyA', 'Ribo'])\n"
   ]
  },
  {
   "cell_type": "markdown",
   "metadata": {},
   "source": [
    "### List of miscalssified samples"
   ]
  },
  {
   "cell_type": "code",
   "execution_count": 8,
   "metadata": {},
   "outputs": [
    {
     "data": {
      "text/html": [
       "<div>\n",
       "<style scoped>\n",
       "    .dataframe tbody tr th:only-of-type {\n",
       "        vertical-align: middle;\n",
       "    }\n",
       "\n",
       "    .dataframe tbody tr th {\n",
       "        vertical-align: top;\n",
       "    }\n",
       "\n",
       "    .dataframe thead th {\n",
       "        text-align: right;\n",
       "    }\n",
       "</style>\n",
       "<table border=\"1\" class=\"dataframe\">\n",
       "  <thead>\n",
       "    <tr style=\"text-align: right;\">\n",
       "      <th></th>\n",
       "      <th>PolyA</th>\n",
       "      <th>Ribo</th>\n",
       "    </tr>\n",
       "  </thead>\n",
       "  <tbody>\n",
       "    <tr>\n",
       "      <th>THR20_0514_S01</th>\n",
       "      <td>0.312206</td>\n",
       "      <td>0.687794</td>\n",
       "    </tr>\n",
       "    <tr>\n",
       "      <th>THR37_1308_S01</th>\n",
       "      <td>0.390402</td>\n",
       "      <td>0.609598</td>\n",
       "    </tr>\n",
       "    <tr>\n",
       "      <th>THR11_0263_S01</th>\n",
       "      <td>0.412759</td>\n",
       "      <td>0.587241</td>\n",
       "    </tr>\n",
       "    <tr>\n",
       "      <th>THR33_1007_S01</th>\n",
       "      <td>0.114412</td>\n",
       "      <td>0.885588</td>\n",
       "    </tr>\n",
       "  </tbody>\n",
       "</table>\n",
       "</div>"
      ],
      "text/plain": [
       "                   PolyA      Ribo\n",
       "THR20_0514_S01  0.312206  0.687794\n",
       "THR37_1308_S01  0.390402  0.609598\n",
       "THR11_0263_S01  0.412759  0.587241\n",
       "THR33_1007_S01  0.114412  0.885588"
      ]
     },
     "execution_count": 8,
     "metadata": {},
     "output_type": "execute_result"
    }
   ],
   "source": [
    "misclassified_df"
   ]
  },
  {
   "cell_type": "code",
   "execution_count": 9,
   "metadata": {},
   "outputs": [
    {
     "data": {
      "text/plain": [
       "dict_keys(['test_labels', 'pred_labels', 'pred_proba', 'acc', 'oob_score', 'model', 'average_precision', 'precision', 'recall', 'genes', 'importances', 'test_samples'])"
      ]
     },
     "execution_count": 9,
     "metadata": {},
     "output_type": "execute_result"
    }
   ],
   "source": [
    "results.keys()"
   ]
  },
  {
   "cell_type": "code",
   "execution_count": 10,
   "metadata": {},
   "outputs": [],
   "source": [
    "mat = confusion_matrix(results['test_labels'], results['pred_labels'])"
   ]
  },
  {
   "cell_type": "markdown",
   "metadata": {},
   "source": [
    "### Confusion matrix shows good separation between the two calsses\n",
    "* Class 0: PolyA libraries\n",
    "* Class 1: Ribo-deplete libraries\n",
    "* 4 PolyA samples misclassified as Ribo-deplete"
   ]
  },
  {
   "cell_type": "code",
   "execution_count": 11,
   "metadata": {},
   "outputs": [
    {
     "data": {
      "text/plain": [
       "<matplotlib.axes._subplots.AxesSubplot at 0x7fe6a7b46f60>"
      ]
     },
     "execution_count": 11,
     "metadata": {},
     "output_type": "execute_result"
    },
    {
     "data": {
      "image/png": "[encoded data removed]",
      "text/plain": [
       "<Figure size 432x288 with 2 Axes>"
      ]
     },
     "metadata": {
      "needs_background": "light"
     },
     "output_type": "display_data"
    }
   ],
   "source": [
    "sns.heatmap(mat, annot=True)"
   ]
  },
  {
   "cell_type": "code",
   "execution_count": 58,
   "metadata": {},
   "outputs": [
    {
     "name": "stdout",
     "output_type": "stream",
     "text": [
      "FPR = 0.061, TPR = 1.000\n"
     ]
    }
   ],
   "source": [
    "fpr, tpr = fpr_tpr(mat)\n",
    "print('FPR = {:.3f}, TPR = {:.3f}'.format(fpr, tpr))"
   ]
  },
  {
   "cell_type": "code",
   "execution_count": 12,
   "metadata": {},
   "outputs": [],
   "source": [
    "importances = zip(results['importances'], results['genes'])"
   ]
  },
  {
   "cell_type": "code",
   "execution_count": 13,
   "metadata": {},
   "outputs": [],
   "source": [
    "importances = sorted(importances, key = lambda x:x[0], reverse=True)\n"
   ]
  },
  {
   "cell_type": "code",
   "execution_count": 14,
   "metadata": {},
   "outputs": [],
   "source": [
    "scores = list(map(lambda x:x[0], importances[:20]))\n",
    "genes = list(map(lambda x:x[1], importances[:20]))"
   ]
  },
  {
   "cell_type": "markdown",
   "metadata": {},
   "source": [
    "### Gene importance determined by RF classifier"
   ]
  },
  {
   "cell_type": "code",
   "execution_count": 15,
   "metadata": {},
   "outputs": [
    {
     "data": {
      "image/png": "[encoded data removed]",
      "text/plain": [
       "<Figure size 432x288 with 1 Axes>"
      ]
     },
     "metadata": {
      "needs_background": "light"
     },
     "output_type": "display_data"
    }
   ],
   "source": [
    "plt.bar(np.arange(len(scores)), scores, width=1)\n",
    "plt.xticks(labels=genes, ticks=np.arange(len(scores)), rotation=90)\n",
    "plt.show()\n",
    "plt.close()"
   ]
  },
  {
   "cell_type": "code",
   "execution_count": 16,
   "metadata": {},
   "outputs": [],
   "source": [
    "with open('/mnt/RiboVsPolyA/results/RF_gene_rank_run2.tsv', 'w') as f:\n",
    "    f.write('Gene\\tScore\\n')\n",
    "    for i in range(len(scores)):\n",
    "        score = scores[i]\n",
    "        gene = genes[i]\n",
    "        f.write(gene+'\\t'+str(score)+'\\n')\n",
    "        \n",
    "    "
   ]
  },
  {
   "cell_type": "markdown",
   "metadata": {},
   "source": [
    "### Attempting to improve probability threshold"
   ]
  },
  {
   "cell_type": "code",
   "execution_count": 17,
   "metadata": {},
   "outputs": [
    {
     "data": {
      "text/plain": [
       "Text(0.5, 1.0, 'Probability of being Ribo')"
      ]
     },
     "execution_count": 17,
     "metadata": {},
     "output_type": "execute_result"
    },
    {
     "data": {
      "image/png": "[encoded data removed]",
      "text/plain": [
       "<Figure size 432x288 with 1 Axes>"
      ]
     },
     "metadata": {
      "needs_background": "light"
     },
     "output_type": "display_data"
    }
   ],
   "source": [
    "plt.hist(results['pred_proba'][:,1])\n",
    "plt.title('Probability of being Ribo')"
   ]
  },
  {
   "cell_type": "code",
   "execution_count": 60,
   "metadata": {},
   "outputs": [
    {
     "data": {
      "text/plain": [
       "<Figure size 720x720 with 0 Axes>"
      ]
     },
     "metadata": {},
     "output_type": "display_data"
    },
    {
     "data": {
      "image/png": "[encoded data removed]",
      "text/plain": [
       "<Figure size 432x288 with 1 Axes>"
      ]
     },
     "metadata": {
      "needs_background": "light"
     },
     "output_type": "display_data"
    },
    {
     "name": "stdout",
     "output_type": "stream",
     "text": [
      "Best cutoff: 0.6900000000000001\n",
      "Best accuracy: 0.9720557788332724\n"
     ]
    },
    {
     "data": {
      "text/plain": [
       "<matplotlib.axes._subplots.AxesSubplot at 0x7fe6a6af9c18>"
      ]
     },
     "execution_count": 60,
     "metadata": {},
     "output_type": "execute_result"
    },
    {
     "data": {
      "image/png": "[encoded data removed]",
      "text/plain": [
       "<Figure size 432x288 with 2 Axes>"
      ]
     },
     "metadata": {
      "needs_background": "light"
     },
     "output_type": "display_data"
    }
   ],
   "source": [
    "# optimize for negative label\n",
    "\n",
    "accuracy_df=pd.DataFrame()\n",
    "best_score=None\n",
    "best_cutoff=None\n",
    "best_pred=None\n",
    "for cutoff in np.arange(0,1,0.01):\n",
    "\n",
    "    test_pred_classes=[]\n",
    "    for i in results['pred_proba'][:,1]:\n",
    "        if i>=cutoff:\n",
    "            test_pred_classes+=[1]\n",
    "        else:\n",
    "            test_pred_classes+=[0]\n",
    "            \n",
    "    score=average_precision_score(results['test_labels'],test_pred_classes )\n",
    "    accuracy_df.loc[cutoff, 'Accuracy']=score\n",
    "    #storing predictions with best accuracy score\n",
    "    if best_score is None or score>best_score:\n",
    "        best_score=score\n",
    "        best_cutoff=cutoff\n",
    "        best_pred=test_pred_classes\n",
    "\n",
    "\n",
    "plt.figure(figsize=(10,10))\n",
    "accuracy_df.plot(kind='bar')\n",
    "plt.xlabel('Cutoff')\n",
    "plt.xticks(rotation=90)\n",
    "plt.ylabel('Accuracy')\n",
    "\n",
    "plt.show()\n",
    "plt.close()\n",
    "print('Best cutoff: {}'.format(best_cutoff))\n",
    "print('Best accuracy: {}'.format(best_score))\n",
    "\n",
    "# print(accuracy_df.describe())\n",
    "\n",
    "mat_2 = confusion_matrix(results['test_labels'], best_pred)\n",
    "sns.heatmap(mat_2, annot=True)"
   ]
  },
  {
   "cell_type": "code",
   "execution_count": 61,
   "metadata": {},
   "outputs": [
    {
     "name": "stdout",
     "output_type": "stream",
     "text": [
      "FPR = 0.015, TPR = 0.971\n"
     ]
    }
   ],
   "source": [
    "fpr, tpr = fpr_tpr(mat_2)\n",
    "print('FPR = {:.3f}, TPR = {:.3f}'.format(fpr, tpr))"
   ]
  },
  {
   "cell_type": "markdown",
   "metadata": {},
   "source": [
    "### After optimizing the cutoff:\n",
    "* FPR dropped from 0.06 to 0.015\n",
    "* TPR also"
   ]
  }
 ],
 "metadata": {
  "kernelspec": {
   "display_name": "Python 3",
   "language": "python",
   "name": "python3"
  },
  "language_info": {
   "codemirror_mode": {
    "name": "ipython",
    "version": 3
   },
   "file_extension": ".py",
   "mimetype": "text/x-python",
   "name": "python",
   "nbconvert_exporter": "python",
   "pygments_lexer": "ipython3",
   "version": "3.7.3"
  }
 },
 "nbformat": 4,
 "nbformat_minor": 2
}
